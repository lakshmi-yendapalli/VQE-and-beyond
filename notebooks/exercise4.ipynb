{
 "cells": [
  {
   "cell_type": "code",
   "execution_count": null,
   "metadata": {
    "vscode": {
     "languageId": "plaintext"
    }
   },
   "outputs": [],
   "source": [
    "from qiskit.algorithms.minimum_eigensolvers import AdaptVQE\n",
    "from qiskit_nature.circuit.library import UCCSD"
   ]
  },
  {
   "cell_type": "code",
   "execution_count": null,
   "metadata": {
    "vscode": {
     "languageId": "plaintext"
    }
   },
   "outputs": [],
   "source": [
    "# Define Adapt-VQE with adaptive ansatz growth\n",
    "adapt_vqe = AdaptVQE(\n",
    "    Estimator(),\n",
    "    optimizer=COBYLA(maxiter=200),\n",
    "    ansatz=UCCSD(converter, qmolecule.num_molecular_orbitals, qmolecule.num_alpha),\n",
    "    gradient_threshold=1e-5\n",
    ")"
   ]
  },
  {
   "cell_type": "code",
   "execution_count": null,
   "metadata": {
    "vscode": {
     "languageId": "plaintext"
    }
   },
   "outputs": [],
   "source": [
    "# Run Adapt-VQE\n",
    "adapt_result = adapt_vqe.compute_minimum_eigenvalue(hamiltonian)\n",
    "print(f\"Adapt-VQE Energy: {adapt_result.eigenvalue.real:.6f} Hartree\")"
   ]
  }
 ],
 "metadata": {
  "language_info": {
   "name": "python"
  }
 },
 "nbformat": 4,
 "nbformat_minor": 2
}
